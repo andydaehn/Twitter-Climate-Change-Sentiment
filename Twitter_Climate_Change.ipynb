{
  "cells": [
    {
      "cell_type": "markdown",
      "metadata": {
        "id": "view-in-github",
        "colab_type": "text"
      },
      "source": [
        "<a href=\"https://colab.research.google.com/github/andydaehn/Twitter-Climate-Change-Sentiment/blob/main/Twitter_Climate_Change.ipynb\" target=\"_parent\"><img src=\"https://colab.research.google.com/assets/colab-badge.svg\" alt=\"Open In Colab\"/></a>"
      ]
    },
    {
      "cell_type": "code",
      "source": [
        "# # To mount Google Drive\n",
        "# from google.colab import drive\n",
        "# drive.mount('/content/drive/')"
      ],
      "metadata": {
        "id": "dAgvC0DtAG0H",
        "outputId": "ccc71bbc-aac4-4542-b0e1-bbfda92763d0",
        "colab": {
          "base_uri": "https://localhost:8080/"
        }
      },
      "execution_count": null,
      "outputs": [
        {
          "output_type": "stream",
          "name": "stdout",
          "text": [
            "Mounted at /content/drive/\n"
          ]
        }
      ]
    },
    {
      "cell_type": "code",
      "execution_count": null,
      "metadata": {
        "colab": {
          "base_uri": "https://localhost:8080/",
          "height": 534
        },
        "id": "EWXaT1XEytAy",
        "outputId": "02963e9b-6b1c-4824-bacd-98a15ced3ad1"
      },
      "outputs": [
        {
          "output_type": "display_data",
          "data": {
            "text/plain": [
              "                  created_at      id        lng        lat  \\\n",
              "0  2006-06-06 16:06:42+00:00    6132        NaN        NaN   \n",
              "1  2006-07-23 21:52:30+00:00   13275 -73.949582  40.650104   \n",
              "2  2006-08-29 01:52:30+00:00   23160        NaN        NaN   \n",
              "3  2006-11-07 02:46:52+00:00   57868        NaN        NaN   \n",
              "4  2006-11-27 14:27:43+00:00  304553        NaN        NaN   \n",
              "\n",
              "                              topic  sentiment   stance     gender  \\\n",
              "0                  Weather Extremes  -0.097180  neutral     female   \n",
              "1                  Weather Extremes   0.575777  neutral  undefined   \n",
              "2                  Weather Extremes   0.500479  neutral       male   \n",
              "3                  Weather Extremes   0.032816  neutral       male   \n",
              "4  Importance of Human Intervantion  -0.090428  neutral       male   \n",
              "\n",
              "   temperature_avg aggressiveness  \n",
              "0              NaN     aggressive  \n",
              "1        -1.114768     aggressive  \n",
              "2              NaN     aggressive  \n",
              "3              NaN     aggressive  \n",
              "4              NaN     aggressive  "
            ],
            "text/html": [
              "\n",
              "  <div id=\"df-b8128a21-335f-4313-80a5-9fec19097c8f\">\n",
              "    <div class=\"colab-df-container\">\n",
              "      <div>\n",
              "<style scoped>\n",
              "    .dataframe tbody tr th:only-of-type {\n",
              "        vertical-align: middle;\n",
              "    }\n",
              "\n",
              "    .dataframe tbody tr th {\n",
              "        vertical-align: top;\n",
              "    }\n",
              "\n",
              "    .dataframe thead th {\n",
              "        text-align: right;\n",
              "    }\n",
              "</style>\n",
              "<table border=\"1\" class=\"dataframe\">\n",
              "  <thead>\n",
              "    <tr style=\"text-align: right;\">\n",
              "      <th></th>\n",
              "      <th>created_at</th>\n",
              "      <th>id</th>\n",
              "      <th>lng</th>\n",
              "      <th>lat</th>\n",
              "      <th>topic</th>\n",
              "      <th>sentiment</th>\n",
              "      <th>stance</th>\n",
              "      <th>gender</th>\n",
              "      <th>temperature_avg</th>\n",
              "      <th>aggressiveness</th>\n",
              "    </tr>\n",
              "  </thead>\n",
              "  <tbody>\n",
              "    <tr>\n",
              "      <th>0</th>\n",
              "      <td>2006-06-06 16:06:42+00:00</td>\n",
              "      <td>6132</td>\n",
              "      <td>NaN</td>\n",
              "      <td>NaN</td>\n",
              "      <td>Weather Extremes</td>\n",
              "      <td>-0.097180</td>\n",
              "      <td>neutral</td>\n",
              "      <td>female</td>\n",
              "      <td>NaN</td>\n",
              "      <td>aggressive</td>\n",
              "    </tr>\n",
              "    <tr>\n",
              "      <th>1</th>\n",
              "      <td>2006-07-23 21:52:30+00:00</td>\n",
              "      <td>13275</td>\n",
              "      <td>-73.949582</td>\n",
              "      <td>40.650104</td>\n",
              "      <td>Weather Extremes</td>\n",
              "      <td>0.575777</td>\n",
              "      <td>neutral</td>\n",
              "      <td>undefined</td>\n",
              "      <td>-1.114768</td>\n",
              "      <td>aggressive</td>\n",
              "    </tr>\n",
              "    <tr>\n",
              "      <th>2</th>\n",
              "      <td>2006-08-29 01:52:30+00:00</td>\n",
              "      <td>23160</td>\n",
              "      <td>NaN</td>\n",
              "      <td>NaN</td>\n",
              "      <td>Weather Extremes</td>\n",
              "      <td>0.500479</td>\n",
              "      <td>neutral</td>\n",
              "      <td>male</td>\n",
              "      <td>NaN</td>\n",
              "      <td>aggressive</td>\n",
              "    </tr>\n",
              "    <tr>\n",
              "      <th>3</th>\n",
              "      <td>2006-11-07 02:46:52+00:00</td>\n",
              "      <td>57868</td>\n",
              "      <td>NaN</td>\n",
              "      <td>NaN</td>\n",
              "      <td>Weather Extremes</td>\n",
              "      <td>0.032816</td>\n",
              "      <td>neutral</td>\n",
              "      <td>male</td>\n",
              "      <td>NaN</td>\n",
              "      <td>aggressive</td>\n",
              "    </tr>\n",
              "    <tr>\n",
              "      <th>4</th>\n",
              "      <td>2006-11-27 14:27:43+00:00</td>\n",
              "      <td>304553</td>\n",
              "      <td>NaN</td>\n",
              "      <td>NaN</td>\n",
              "      <td>Importance of Human Intervantion</td>\n",
              "      <td>-0.090428</td>\n",
              "      <td>neutral</td>\n",
              "      <td>male</td>\n",
              "      <td>NaN</td>\n",
              "      <td>aggressive</td>\n",
              "    </tr>\n",
              "  </tbody>\n",
              "</table>\n",
              "</div>\n",
              "      <button class=\"colab-df-convert\" onclick=\"convertToInteractive('df-b8128a21-335f-4313-80a5-9fec19097c8f')\"\n",
              "              title=\"Convert this dataframe to an interactive table.\"\n",
              "              style=\"display:none;\">\n",
              "        \n",
              "  <svg xmlns=\"http://www.w3.org/2000/svg\" height=\"24px\"viewBox=\"0 0 24 24\"\n",
              "       width=\"24px\">\n",
              "    <path d=\"M0 0h24v24H0V0z\" fill=\"none\"/>\n",
              "    <path d=\"M18.56 5.44l.94 2.06.94-2.06 2.06-.94-2.06-.94-.94-2.06-.94 2.06-2.06.94zm-11 1L8.5 8.5l.94-2.06 2.06-.94-2.06-.94L8.5 2.5l-.94 2.06-2.06.94zm10 10l.94 2.06.94-2.06 2.06-.94-2.06-.94-.94-2.06-.94 2.06-2.06.94z\"/><path d=\"M17.41 7.96l-1.37-1.37c-.4-.4-.92-.59-1.43-.59-.52 0-1.04.2-1.43.59L10.3 9.45l-7.72 7.72c-.78.78-.78 2.05 0 2.83L4 21.41c.39.39.9.59 1.41.59.51 0 1.02-.2 1.41-.59l7.78-7.78 2.81-2.81c.8-.78.8-2.07 0-2.86zM5.41 20L4 18.59l7.72-7.72 1.47 1.35L5.41 20z\"/>\n",
              "  </svg>\n",
              "      </button>\n",
              "      \n",
              "  <style>\n",
              "    .colab-df-container {\n",
              "      display:flex;\n",
              "      flex-wrap:wrap;\n",
              "      gap: 12px;\n",
              "    }\n",
              "\n",
              "    .colab-df-convert {\n",
              "      background-color: #E8F0FE;\n",
              "      border: none;\n",
              "      border-radius: 50%;\n",
              "      cursor: pointer;\n",
              "      display: none;\n",
              "      fill: #1967D2;\n",
              "      height: 32px;\n",
              "      padding: 0 0 0 0;\n",
              "      width: 32px;\n",
              "    }\n",
              "\n",
              "    .colab-df-convert:hover {\n",
              "      background-color: #E2EBFA;\n",
              "      box-shadow: 0px 1px 2px rgba(60, 64, 67, 0.3), 0px 1px 3px 1px rgba(60, 64, 67, 0.15);\n",
              "      fill: #174EA6;\n",
              "    }\n",
              "\n",
              "    [theme=dark] .colab-df-convert {\n",
              "      background-color: #3B4455;\n",
              "      fill: #D2E3FC;\n",
              "    }\n",
              "\n",
              "    [theme=dark] .colab-df-convert:hover {\n",
              "      background-color: #434B5C;\n",
              "      box-shadow: 0px 1px 3px 1px rgba(0, 0, 0, 0.15);\n",
              "      filter: drop-shadow(0px 1px 2px rgba(0, 0, 0, 0.3));\n",
              "      fill: #FFFFFF;\n",
              "    }\n",
              "  </style>\n",
              "\n",
              "      <script>\n",
              "        const buttonEl =\n",
              "          document.querySelector('#df-b8128a21-335f-4313-80a5-9fec19097c8f button.colab-df-convert');\n",
              "        buttonEl.style.display =\n",
              "          google.colab.kernel.accessAllowed ? 'block' : 'none';\n",
              "\n",
              "        async function convertToInteractive(key) {\n",
              "          const element = document.querySelector('#df-b8128a21-335f-4313-80a5-9fec19097c8f');\n",
              "          const dataTable =\n",
              "            await google.colab.kernel.invokeFunction('convertToInteractive',\n",
              "                                                     [key], {});\n",
              "          if (!dataTable) return;\n",
              "\n",
              "          const docLinkHtml = 'Like what you see? Visit the ' +\n",
              "            '<a target=\"_blank\" href=https://colab.research.google.com/notebooks/data_table.ipynb>data table notebook</a>'\n",
              "            + ' to learn more about interactive tables.';\n",
              "          element.innerHTML = '';\n",
              "          dataTable['output_type'] = 'display_data';\n",
              "          await google.colab.output.renderOutput(dataTable, element);\n",
              "          const docLink = document.createElement('div');\n",
              "          docLink.innerHTML = docLinkHtml;\n",
              "          element.appendChild(docLink);\n",
              "        }\n",
              "      </script>\n",
              "    </div>\n",
              "  </div>\n",
              "  "
            ]
          },
          "metadata": {}
        },
        {
          "output_type": "display_data",
          "data": {
            "text/plain": [
              "  Disaster Type  Disaster Subtype Disaster Group Disaster Subgroup Event Name  \\\n",
              "0    Earthquake   Ground movement        Natural       Geophysical        NaN   \n",
              "1         Storm  Tropical cyclone        Natural    Meteorological    Indhala   \n",
              "2         Flood       Flash flood        Natural      Hydrological        NaN   \n",
              "3         Flood    Riverine flood        Natural      Hydrological        NaN   \n",
              "4         Flood    Riverine flood        Natural      Hydrological        NaN   \n",
              "\n",
              "                   Origin     Country  \\\n",
              "0                     NaN       Japan   \n",
              "1                     NaN  Madagascar   \n",
              "2  Storms and heavy rains   Australia   \n",
              "3             Heavy rains       Haiti   \n",
              "4             Heavy rains   Argentina   \n",
              "\n",
              "                                            Location  Latitude  Longitude  \\\n",
              "0  Nanao, Wajima districts (Isikawa province), Ni...    37.336    136.588   \n",
              "1         Diana, Sava, Sofia, Analanjirofo provinces   -14.840     49.940   \n",
              "2  Gosford, Dungog, Newcastle, Wyong, Port Stephe...   -32.870    151.380   \n",
              "3  Ferrier village (Fort Liberte district, Nord E...    19.410    -71.780   \n",
              "4  Tucuman, Santiago del Estero, Salta, Formosa p...       NaN        NaN   \n",
              "\n",
              "   start_date    end_date  Total Deaths  No Affected  \\\n",
              "0  2007-03-25  2007-03-25           1.0          NaN   \n",
              "1  2007-03-15  2007-03-17          80.0     203182.0   \n",
              "2  2007-06-08  2007-06-12           9.0       5000.0   \n",
              "3  2007-03-26  2007-03-30          14.0      15000.0   \n",
              "4  2007-01-18  2007-03-20           5.0      60000.0   \n",
              "\n",
              "   Reconstruction Costs ('000 US$)  Total Damages ('000 US$)        CPI  \n",
              "0                              NaN                  250000.0  81.101659  \n",
              "1                              NaN                  240000.0  81.101659  \n",
              "2                              NaN                 1300000.0  81.101659  \n",
              "3                              NaN                       NaN  81.101659  \n",
              "4                              NaN                   30000.0  81.101659  "
            ],
            "text/html": [
              "\n",
              "  <div id=\"df-50753019-6e71-4571-9636-c9fd6fae16f6\">\n",
              "    <div class=\"colab-df-container\">\n",
              "      <div>\n",
              "<style scoped>\n",
              "    .dataframe tbody tr th:only-of-type {\n",
              "        vertical-align: middle;\n",
              "    }\n",
              "\n",
              "    .dataframe tbody tr th {\n",
              "        vertical-align: top;\n",
              "    }\n",
              "\n",
              "    .dataframe thead th {\n",
              "        text-align: right;\n",
              "    }\n",
              "</style>\n",
              "<table border=\"1\" class=\"dataframe\">\n",
              "  <thead>\n",
              "    <tr style=\"text-align: right;\">\n",
              "      <th></th>\n",
              "      <th>Disaster Type</th>\n",
              "      <th>Disaster Subtype</th>\n",
              "      <th>Disaster Group</th>\n",
              "      <th>Disaster Subgroup</th>\n",
              "      <th>Event Name</th>\n",
              "      <th>Origin</th>\n",
              "      <th>Country</th>\n",
              "      <th>Location</th>\n",
              "      <th>Latitude</th>\n",
              "      <th>Longitude</th>\n",
              "      <th>start_date</th>\n",
              "      <th>end_date</th>\n",
              "      <th>Total Deaths</th>\n",
              "      <th>No Affected</th>\n",
              "      <th>Reconstruction Costs ('000 US$)</th>\n",
              "      <th>Total Damages ('000 US$)</th>\n",
              "      <th>CPI</th>\n",
              "    </tr>\n",
              "  </thead>\n",
              "  <tbody>\n",
              "    <tr>\n",
              "      <th>0</th>\n",
              "      <td>Earthquake</td>\n",
              "      <td>Ground movement</td>\n",
              "      <td>Natural</td>\n",
              "      <td>Geophysical</td>\n",
              "      <td>NaN</td>\n",
              "      <td>NaN</td>\n",
              "      <td>Japan</td>\n",
              "      <td>Nanao, Wajima districts (Isikawa province), Ni...</td>\n",
              "      <td>37.336</td>\n",
              "      <td>136.588</td>\n",
              "      <td>2007-03-25</td>\n",
              "      <td>2007-03-25</td>\n",
              "      <td>1.0</td>\n",
              "      <td>NaN</td>\n",
              "      <td>NaN</td>\n",
              "      <td>250000.0</td>\n",
              "      <td>81.101659</td>\n",
              "    </tr>\n",
              "    <tr>\n",
              "      <th>1</th>\n",
              "      <td>Storm</td>\n",
              "      <td>Tropical cyclone</td>\n",
              "      <td>Natural</td>\n",
              "      <td>Meteorological</td>\n",
              "      <td>Indhala</td>\n",
              "      <td>NaN</td>\n",
              "      <td>Madagascar</td>\n",
              "      <td>Diana, Sava, Sofia, Analanjirofo provinces</td>\n",
              "      <td>-14.840</td>\n",
              "      <td>49.940</td>\n",
              "      <td>2007-03-15</td>\n",
              "      <td>2007-03-17</td>\n",
              "      <td>80.0</td>\n",
              "      <td>203182.0</td>\n",
              "      <td>NaN</td>\n",
              "      <td>240000.0</td>\n",
              "      <td>81.101659</td>\n",
              "    </tr>\n",
              "    <tr>\n",
              "      <th>2</th>\n",
              "      <td>Flood</td>\n",
              "      <td>Flash flood</td>\n",
              "      <td>Natural</td>\n",
              "      <td>Hydrological</td>\n",
              "      <td>NaN</td>\n",
              "      <td>Storms and heavy rains</td>\n",
              "      <td>Australia</td>\n",
              "      <td>Gosford, Dungog, Newcastle, Wyong, Port Stephe...</td>\n",
              "      <td>-32.870</td>\n",
              "      <td>151.380</td>\n",
              "      <td>2007-06-08</td>\n",
              "      <td>2007-06-12</td>\n",
              "      <td>9.0</td>\n",
              "      <td>5000.0</td>\n",
              "      <td>NaN</td>\n",
              "      <td>1300000.0</td>\n",
              "      <td>81.101659</td>\n",
              "    </tr>\n",
              "    <tr>\n",
              "      <th>3</th>\n",
              "      <td>Flood</td>\n",
              "      <td>Riverine flood</td>\n",
              "      <td>Natural</td>\n",
              "      <td>Hydrological</td>\n",
              "      <td>NaN</td>\n",
              "      <td>Heavy rains</td>\n",
              "      <td>Haiti</td>\n",
              "      <td>Ferrier village (Fort Liberte district, Nord E...</td>\n",
              "      <td>19.410</td>\n",
              "      <td>-71.780</td>\n",
              "      <td>2007-03-26</td>\n",
              "      <td>2007-03-30</td>\n",
              "      <td>14.0</td>\n",
              "      <td>15000.0</td>\n",
              "      <td>NaN</td>\n",
              "      <td>NaN</td>\n",
              "      <td>81.101659</td>\n",
              "    </tr>\n",
              "    <tr>\n",
              "      <th>4</th>\n",
              "      <td>Flood</td>\n",
              "      <td>Riverine flood</td>\n",
              "      <td>Natural</td>\n",
              "      <td>Hydrological</td>\n",
              "      <td>NaN</td>\n",
              "      <td>Heavy rains</td>\n",
              "      <td>Argentina</td>\n",
              "      <td>Tucuman, Santiago del Estero, Salta, Formosa p...</td>\n",
              "      <td>NaN</td>\n",
              "      <td>NaN</td>\n",
              "      <td>2007-01-18</td>\n",
              "      <td>2007-03-20</td>\n",
              "      <td>5.0</td>\n",
              "      <td>60000.0</td>\n",
              "      <td>NaN</td>\n",
              "      <td>30000.0</td>\n",
              "      <td>81.101659</td>\n",
              "    </tr>\n",
              "  </tbody>\n",
              "</table>\n",
              "</div>\n",
              "      <button class=\"colab-df-convert\" onclick=\"convertToInteractive('df-50753019-6e71-4571-9636-c9fd6fae16f6')\"\n",
              "              title=\"Convert this dataframe to an interactive table.\"\n",
              "              style=\"display:none;\">\n",
              "        \n",
              "  <svg xmlns=\"http://www.w3.org/2000/svg\" height=\"24px\"viewBox=\"0 0 24 24\"\n",
              "       width=\"24px\">\n",
              "    <path d=\"M0 0h24v24H0V0z\" fill=\"none\"/>\n",
              "    <path d=\"M18.56 5.44l.94 2.06.94-2.06 2.06-.94-2.06-.94-.94-2.06-.94 2.06-2.06.94zm-11 1L8.5 8.5l.94-2.06 2.06-.94-2.06-.94L8.5 2.5l-.94 2.06-2.06.94zm10 10l.94 2.06.94-2.06 2.06-.94-2.06-.94-.94-2.06-.94 2.06-2.06.94z\"/><path d=\"M17.41 7.96l-1.37-1.37c-.4-.4-.92-.59-1.43-.59-.52 0-1.04.2-1.43.59L10.3 9.45l-7.72 7.72c-.78.78-.78 2.05 0 2.83L4 21.41c.39.39.9.59 1.41.59.51 0 1.02-.2 1.41-.59l7.78-7.78 2.81-2.81c.8-.78.8-2.07 0-2.86zM5.41 20L4 18.59l7.72-7.72 1.47 1.35L5.41 20z\"/>\n",
              "  </svg>\n",
              "      </button>\n",
              "      \n",
              "  <style>\n",
              "    .colab-df-container {\n",
              "      display:flex;\n",
              "      flex-wrap:wrap;\n",
              "      gap: 12px;\n",
              "    }\n",
              "\n",
              "    .colab-df-convert {\n",
              "      background-color: #E8F0FE;\n",
              "      border: none;\n",
              "      border-radius: 50%;\n",
              "      cursor: pointer;\n",
              "      display: none;\n",
              "      fill: #1967D2;\n",
              "      height: 32px;\n",
              "      padding: 0 0 0 0;\n",
              "      width: 32px;\n",
              "    }\n",
              "\n",
              "    .colab-df-convert:hover {\n",
              "      background-color: #E2EBFA;\n",
              "      box-shadow: 0px 1px 2px rgba(60, 64, 67, 0.3), 0px 1px 3px 1px rgba(60, 64, 67, 0.15);\n",
              "      fill: #174EA6;\n",
              "    }\n",
              "\n",
              "    [theme=dark] .colab-df-convert {\n",
              "      background-color: #3B4455;\n",
              "      fill: #D2E3FC;\n",
              "    }\n",
              "\n",
              "    [theme=dark] .colab-df-convert:hover {\n",
              "      background-color: #434B5C;\n",
              "      box-shadow: 0px 1px 3px 1px rgba(0, 0, 0, 0.15);\n",
              "      filter: drop-shadow(0px 1px 2px rgba(0, 0, 0, 0.3));\n",
              "      fill: #FFFFFF;\n",
              "    }\n",
              "  </style>\n",
              "\n",
              "      <script>\n",
              "        const buttonEl =\n",
              "          document.querySelector('#df-50753019-6e71-4571-9636-c9fd6fae16f6 button.colab-df-convert');\n",
              "        buttonEl.style.display =\n",
              "          google.colab.kernel.accessAllowed ? 'block' : 'none';\n",
              "\n",
              "        async function convertToInteractive(key) {\n",
              "          const element = document.querySelector('#df-50753019-6e71-4571-9636-c9fd6fae16f6');\n",
              "          const dataTable =\n",
              "            await google.colab.kernel.invokeFunction('convertToInteractive',\n",
              "                                                     [key], {});\n",
              "          if (!dataTable) return;\n",
              "\n",
              "          const docLinkHtml = 'Like what you see? Visit the ' +\n",
              "            '<a target=\"_blank\" href=https://colab.research.google.com/notebooks/data_table.ipynb>data table notebook</a>'\n",
              "            + ' to learn more about interactive tables.';\n",
              "          element.innerHTML = '';\n",
              "          dataTable['output_type'] = 'display_data';\n",
              "          await google.colab.output.renderOutput(dataTable, element);\n",
              "          const docLink = document.createElement('div');\n",
              "          docLink.innerHTML = docLinkHtml;\n",
              "          element.appendChild(docLink);\n",
              "        }\n",
              "      </script>\n",
              "    </div>\n",
              "  </div>\n",
              "  "
            ]
          },
          "metadata": {}
        }
      ],
      "source": [
        "# Import libraries necessary for this project\n",
        "import numpy as np\n",
        "import pandas as pd\n",
        "from IPython.display import display # Allows the use of display() for DataFrames\n",
        "\n",
        "\n",
        "# Pretty display for notebooks\n",
        "%matplotlib inline\n",
        "\n",
        "# Set a random seed\n",
        "import random\n",
        "random.seed(42)\n",
        "\n",
        "\n",
        "\n",
        "# Load the datasets\n",
        "in_file = 'The_Climate_Change_Twitter_Dataset.csv'\n",
        "main_data = pd.read_csv(in_file)\n",
        "\n",
        "disasters = pd.read_csv('disasters.csv')\n",
        "\n",
        "\n",
        "# Print the first entries of the Twitter Climate Change dataset\n",
        "display(main_data.head())\n",
        "\n",
        "# Print the first entries from the disasters dataset\n",
        "display(disasters.head())"
      ]
    },
    {
      "cell_type": "code",
      "source": [
        "# Get data description for Twitter\n",
        "main_data.describe()"
      ],
      "metadata": {
        "colab": {
          "base_uri": "https://localhost:8080/",
          "height": 300
        },
        "id": "UpQznuI_2lLT",
        "outputId": "0af4af81-b8ef-4a5b-9e0e-24d0c0655622"
      },
      "execution_count": null,
      "outputs": [
        {
          "output_type": "execute_result",
          "data": {
            "text/plain": [
              "                 id           lng           lat     sentiment  temperature_avg\n",
              "count  4.957497e+06  1.557581e+06  1.557581e+06  4.957496e+06     1.557581e+06\n",
              "mean   4.687126e+17 -4.681620e+01  3.369589e+01  4.456855e-03     8.707707e-01\n",
              "std    3.004785e+17  7.550731e+01  2.184148e+01  4.269144e-01     3.661021e+00\n",
              "min    6.132000e+03 -1.782667e+02 -9.000000e+01 -9.896428e-01    -2.328904e+01\n",
              "25%    1.333738e+17 -9.461690e+01  3.344838e+01 -3.915024e-01    -1.095274e+00\n",
              "50%    5.887612e+17 -7.703637e+01  3.952963e+01  3.914555e-03     7.215802e-01\n",
              "75%    7.081306e+17 -4.152837e-01  4.484802e+01  4.091755e-01     2.801490e+00\n",
              "max    8.753844e+17  1.793167e+02  8.251778e+01  9.901308e-01     2.100350e+01"
            ],
            "text/html": [
              "\n",
              "  <div id=\"df-9aad247c-ce96-4f6a-97b4-8f9b8e9788d1\">\n",
              "    <div class=\"colab-df-container\">\n",
              "      <div>\n",
              "<style scoped>\n",
              "    .dataframe tbody tr th:only-of-type {\n",
              "        vertical-align: middle;\n",
              "    }\n",
              "\n",
              "    .dataframe tbody tr th {\n",
              "        vertical-align: top;\n",
              "    }\n",
              "\n",
              "    .dataframe thead th {\n",
              "        text-align: right;\n",
              "    }\n",
              "</style>\n",
              "<table border=\"1\" class=\"dataframe\">\n",
              "  <thead>\n",
              "    <tr style=\"text-align: right;\">\n",
              "      <th></th>\n",
              "      <th>id</th>\n",
              "      <th>lng</th>\n",
              "      <th>lat</th>\n",
              "      <th>sentiment</th>\n",
              "      <th>temperature_avg</th>\n",
              "    </tr>\n",
              "  </thead>\n",
              "  <tbody>\n",
              "    <tr>\n",
              "      <th>count</th>\n",
              "      <td>4.957497e+06</td>\n",
              "      <td>1.557581e+06</td>\n",
              "      <td>1.557581e+06</td>\n",
              "      <td>4.957496e+06</td>\n",
              "      <td>1.557581e+06</td>\n",
              "    </tr>\n",
              "    <tr>\n",
              "      <th>mean</th>\n",
              "      <td>4.687126e+17</td>\n",
              "      <td>-4.681620e+01</td>\n",
              "      <td>3.369589e+01</td>\n",
              "      <td>4.456855e-03</td>\n",
              "      <td>8.707707e-01</td>\n",
              "    </tr>\n",
              "    <tr>\n",
              "      <th>std</th>\n",
              "      <td>3.004785e+17</td>\n",
              "      <td>7.550731e+01</td>\n",
              "      <td>2.184148e+01</td>\n",
              "      <td>4.269144e-01</td>\n",
              "      <td>3.661021e+00</td>\n",
              "    </tr>\n",
              "    <tr>\n",
              "      <th>min</th>\n",
              "      <td>6.132000e+03</td>\n",
              "      <td>-1.782667e+02</td>\n",
              "      <td>-9.000000e+01</td>\n",
              "      <td>-9.896428e-01</td>\n",
              "      <td>-2.328904e+01</td>\n",
              "    </tr>\n",
              "    <tr>\n",
              "      <th>25%</th>\n",
              "      <td>1.333738e+17</td>\n",
              "      <td>-9.461690e+01</td>\n",
              "      <td>3.344838e+01</td>\n",
              "      <td>-3.915024e-01</td>\n",
              "      <td>-1.095274e+00</td>\n",
              "    </tr>\n",
              "    <tr>\n",
              "      <th>50%</th>\n",
              "      <td>5.887612e+17</td>\n",
              "      <td>-7.703637e+01</td>\n",
              "      <td>3.952963e+01</td>\n",
              "      <td>3.914555e-03</td>\n",
              "      <td>7.215802e-01</td>\n",
              "    </tr>\n",
              "    <tr>\n",
              "      <th>75%</th>\n",
              "      <td>7.081306e+17</td>\n",
              "      <td>-4.152837e-01</td>\n",
              "      <td>4.484802e+01</td>\n",
              "      <td>4.091755e-01</td>\n",
              "      <td>2.801490e+00</td>\n",
              "    </tr>\n",
              "    <tr>\n",
              "      <th>max</th>\n",
              "      <td>8.753844e+17</td>\n",
              "      <td>1.793167e+02</td>\n",
              "      <td>8.251778e+01</td>\n",
              "      <td>9.901308e-01</td>\n",
              "      <td>2.100350e+01</td>\n",
              "    </tr>\n",
              "  </tbody>\n",
              "</table>\n",
              "</div>\n",
              "      <button class=\"colab-df-convert\" onclick=\"convertToInteractive('df-9aad247c-ce96-4f6a-97b4-8f9b8e9788d1')\"\n",
              "              title=\"Convert this dataframe to an interactive table.\"\n",
              "              style=\"display:none;\">\n",
              "        \n",
              "  <svg xmlns=\"http://www.w3.org/2000/svg\" height=\"24px\"viewBox=\"0 0 24 24\"\n",
              "       width=\"24px\">\n",
              "    <path d=\"M0 0h24v24H0V0z\" fill=\"none\"/>\n",
              "    <path d=\"M18.56 5.44l.94 2.06.94-2.06 2.06-.94-2.06-.94-.94-2.06-.94 2.06-2.06.94zm-11 1L8.5 8.5l.94-2.06 2.06-.94-2.06-.94L8.5 2.5l-.94 2.06-2.06.94zm10 10l.94 2.06.94-2.06 2.06-.94-2.06-.94-.94-2.06-.94 2.06-2.06.94z\"/><path d=\"M17.41 7.96l-1.37-1.37c-.4-.4-.92-.59-1.43-.59-.52 0-1.04.2-1.43.59L10.3 9.45l-7.72 7.72c-.78.78-.78 2.05 0 2.83L4 21.41c.39.39.9.59 1.41.59.51 0 1.02-.2 1.41-.59l7.78-7.78 2.81-2.81c.8-.78.8-2.07 0-2.86zM5.41 20L4 18.59l7.72-7.72 1.47 1.35L5.41 20z\"/>\n",
              "  </svg>\n",
              "      </button>\n",
              "      \n",
              "  <style>\n",
              "    .colab-df-container {\n",
              "      display:flex;\n",
              "      flex-wrap:wrap;\n",
              "      gap: 12px;\n",
              "    }\n",
              "\n",
              "    .colab-df-convert {\n",
              "      background-color: #E8F0FE;\n",
              "      border: none;\n",
              "      border-radius: 50%;\n",
              "      cursor: pointer;\n",
              "      display: none;\n",
              "      fill: #1967D2;\n",
              "      height: 32px;\n",
              "      padding: 0 0 0 0;\n",
              "      width: 32px;\n",
              "    }\n",
              "\n",
              "    .colab-df-convert:hover {\n",
              "      background-color: #E2EBFA;\n",
              "      box-shadow: 0px 1px 2px rgba(60, 64, 67, 0.3), 0px 1px 3px 1px rgba(60, 64, 67, 0.15);\n",
              "      fill: #174EA6;\n",
              "    }\n",
              "\n",
              "    [theme=dark] .colab-df-convert {\n",
              "      background-color: #3B4455;\n",
              "      fill: #D2E3FC;\n",
              "    }\n",
              "\n",
              "    [theme=dark] .colab-df-convert:hover {\n",
              "      background-color: #434B5C;\n",
              "      box-shadow: 0px 1px 3px 1px rgba(0, 0, 0, 0.15);\n",
              "      filter: drop-shadow(0px 1px 2px rgba(0, 0, 0, 0.3));\n",
              "      fill: #FFFFFF;\n",
              "    }\n",
              "  </style>\n",
              "\n",
              "      <script>\n",
              "        const buttonEl =\n",
              "          document.querySelector('#df-9aad247c-ce96-4f6a-97b4-8f9b8e9788d1 button.colab-df-convert');\n",
              "        buttonEl.style.display =\n",
              "          google.colab.kernel.accessAllowed ? 'block' : 'none';\n",
              "\n",
              "        async function convertToInteractive(key) {\n",
              "          const element = document.querySelector('#df-9aad247c-ce96-4f6a-97b4-8f9b8e9788d1');\n",
              "          const dataTable =\n",
              "            await google.colab.kernel.invokeFunction('convertToInteractive',\n",
              "                                                     [key], {});\n",
              "          if (!dataTable) return;\n",
              "\n",
              "          const docLinkHtml = 'Like what you see? Visit the ' +\n",
              "            '<a target=\"_blank\" href=https://colab.research.google.com/notebooks/data_table.ipynb>data table notebook</a>'\n",
              "            + ' to learn more about interactive tables.';\n",
              "          element.innerHTML = '';\n",
              "          dataTable['output_type'] = 'display_data';\n",
              "          await google.colab.output.renderOutput(dataTable, element);\n",
              "          const docLink = document.createElement('div');\n",
              "          docLink.innerHTML = docLinkHtml;\n",
              "          element.appendChild(docLink);\n",
              "        }\n",
              "      </script>\n",
              "    </div>\n",
              "  </div>\n",
              "  "
            ]
          },
          "metadata": {},
          "execution_count": 11
        }
      ]
    },
    {
      "cell_type": "code",
      "source": [
        "#Get data description for disasters\n",
        "disasters.describe()"
      ],
      "metadata": {
        "colab": {
          "base_uri": "https://localhost:8080/",
          "height": 300
        },
        "id": "hKkLhV6H2lHA",
        "outputId": "ea7a1a10-58fd-4cd7-a29f-5e6355436b26"
      },
      "execution_count": null,
      "outputs": [
        {
          "output_type": "execute_result",
          "data": {
            "text/plain": [
              "          Latitude    Longitude   Total Deaths   No Affected  \\\n",
              "count  1290.000000  1294.000000    3583.000000  3.213000e+03   \n",
              "mean     19.328011    41.045957     203.965113  7.411172e+05   \n",
              "std      88.671570   123.322345    4737.270923  7.419144e+06   \n",
              "min    -913.908000  -955.370000       1.000000  2.000000e+00   \n",
              "25%      -0.011000    -4.675000       4.000000  2.500000e+03   \n",
              "50%      17.483500    48.765000      12.000000  1.500000e+04   \n",
              "75%      34.770750   103.951000      30.000000  1.027170e+05   \n",
              "max     995.267000   952.600000  222570.000000  3.300000e+08   \n",
              "\n",
              "       Reconstruction Costs ('000 US$)  Total Damages ('000 US$)          CPI  \n",
              "count                     1.600000e+01              1.755000e+03  4544.000000  \n",
              "mean                      1.301854e+06              1.205278e+06    90.401750  \n",
              "std                       2.859664e+06              6.787299e+06     5.716723  \n",
              "min                       1.510000e+03              2.000000e+00    81.101659  \n",
              "25%                       6.000000e+04              2.248000e+04    85.292061  \n",
              "50%                       1.970000e+05              1.368200e+05    91.120794  \n",
              "75%                       1.091438e+06              6.475000e+05    93.878436  \n",
              "max                       1.150000e+07              2.100000e+08   100.000000  "
            ],
            "text/html": [
              "\n",
              "  <div id=\"df-d2b284e7-a215-4559-ac33-789a18286480\">\n",
              "    <div class=\"colab-df-container\">\n",
              "      <div>\n",
              "<style scoped>\n",
              "    .dataframe tbody tr th:only-of-type {\n",
              "        vertical-align: middle;\n",
              "    }\n",
              "\n",
              "    .dataframe tbody tr th {\n",
              "        vertical-align: top;\n",
              "    }\n",
              "\n",
              "    .dataframe thead th {\n",
              "        text-align: right;\n",
              "    }\n",
              "</style>\n",
              "<table border=\"1\" class=\"dataframe\">\n",
              "  <thead>\n",
              "    <tr style=\"text-align: right;\">\n",
              "      <th></th>\n",
              "      <th>Latitude</th>\n",
              "      <th>Longitude</th>\n",
              "      <th>Total Deaths</th>\n",
              "      <th>No Affected</th>\n",
              "      <th>Reconstruction Costs ('000 US$)</th>\n",
              "      <th>Total Damages ('000 US$)</th>\n",
              "      <th>CPI</th>\n",
              "    </tr>\n",
              "  </thead>\n",
              "  <tbody>\n",
              "    <tr>\n",
              "      <th>count</th>\n",
              "      <td>1290.000000</td>\n",
              "      <td>1294.000000</td>\n",
              "      <td>3583.000000</td>\n",
              "      <td>3.213000e+03</td>\n",
              "      <td>1.600000e+01</td>\n",
              "      <td>1.755000e+03</td>\n",
              "      <td>4544.000000</td>\n",
              "    </tr>\n",
              "    <tr>\n",
              "      <th>mean</th>\n",
              "      <td>19.328011</td>\n",
              "      <td>41.045957</td>\n",
              "      <td>203.965113</td>\n",
              "      <td>7.411172e+05</td>\n",
              "      <td>1.301854e+06</td>\n",
              "      <td>1.205278e+06</td>\n",
              "      <td>90.401750</td>\n",
              "    </tr>\n",
              "    <tr>\n",
              "      <th>std</th>\n",
              "      <td>88.671570</td>\n",
              "      <td>123.322345</td>\n",
              "      <td>4737.270923</td>\n",
              "      <td>7.419144e+06</td>\n",
              "      <td>2.859664e+06</td>\n",
              "      <td>6.787299e+06</td>\n",
              "      <td>5.716723</td>\n",
              "    </tr>\n",
              "    <tr>\n",
              "      <th>min</th>\n",
              "      <td>-913.908000</td>\n",
              "      <td>-955.370000</td>\n",
              "      <td>1.000000</td>\n",
              "      <td>2.000000e+00</td>\n",
              "      <td>1.510000e+03</td>\n",
              "      <td>2.000000e+00</td>\n",
              "      <td>81.101659</td>\n",
              "    </tr>\n",
              "    <tr>\n",
              "      <th>25%</th>\n",
              "      <td>-0.011000</td>\n",
              "      <td>-4.675000</td>\n",
              "      <td>4.000000</td>\n",
              "      <td>2.500000e+03</td>\n",
              "      <td>6.000000e+04</td>\n",
              "      <td>2.248000e+04</td>\n",
              "      <td>85.292061</td>\n",
              "    </tr>\n",
              "    <tr>\n",
              "      <th>50%</th>\n",
              "      <td>17.483500</td>\n",
              "      <td>48.765000</td>\n",
              "      <td>12.000000</td>\n",
              "      <td>1.500000e+04</td>\n",
              "      <td>1.970000e+05</td>\n",
              "      <td>1.368200e+05</td>\n",
              "      <td>91.120794</td>\n",
              "    </tr>\n",
              "    <tr>\n",
              "      <th>75%</th>\n",
              "      <td>34.770750</td>\n",
              "      <td>103.951000</td>\n",
              "      <td>30.000000</td>\n",
              "      <td>1.027170e+05</td>\n",
              "      <td>1.091438e+06</td>\n",
              "      <td>6.475000e+05</td>\n",
              "      <td>93.878436</td>\n",
              "    </tr>\n",
              "    <tr>\n",
              "      <th>max</th>\n",
              "      <td>995.267000</td>\n",
              "      <td>952.600000</td>\n",
              "      <td>222570.000000</td>\n",
              "      <td>3.300000e+08</td>\n",
              "      <td>1.150000e+07</td>\n",
              "      <td>2.100000e+08</td>\n",
              "      <td>100.000000</td>\n",
              "    </tr>\n",
              "  </tbody>\n",
              "</table>\n",
              "</div>\n",
              "      <button class=\"colab-df-convert\" onclick=\"convertToInteractive('df-d2b284e7-a215-4559-ac33-789a18286480')\"\n",
              "              title=\"Convert this dataframe to an interactive table.\"\n",
              "              style=\"display:none;\">\n",
              "        \n",
              "  <svg xmlns=\"http://www.w3.org/2000/svg\" height=\"24px\"viewBox=\"0 0 24 24\"\n",
              "       width=\"24px\">\n",
              "    <path d=\"M0 0h24v24H0V0z\" fill=\"none\"/>\n",
              "    <path d=\"M18.56 5.44l.94 2.06.94-2.06 2.06-.94-2.06-.94-.94-2.06-.94 2.06-2.06.94zm-11 1L8.5 8.5l.94-2.06 2.06-.94-2.06-.94L8.5 2.5l-.94 2.06-2.06.94zm10 10l.94 2.06.94-2.06 2.06-.94-2.06-.94-.94-2.06-.94 2.06-2.06.94z\"/><path d=\"M17.41 7.96l-1.37-1.37c-.4-.4-.92-.59-1.43-.59-.52 0-1.04.2-1.43.59L10.3 9.45l-7.72 7.72c-.78.78-.78 2.05 0 2.83L4 21.41c.39.39.9.59 1.41.59.51 0 1.02-.2 1.41-.59l7.78-7.78 2.81-2.81c.8-.78.8-2.07 0-2.86zM5.41 20L4 18.59l7.72-7.72 1.47 1.35L5.41 20z\"/>\n",
              "  </svg>\n",
              "      </button>\n",
              "      \n",
              "  <style>\n",
              "    .colab-df-container {\n",
              "      display:flex;\n",
              "      flex-wrap:wrap;\n",
              "      gap: 12px;\n",
              "    }\n",
              "\n",
              "    .colab-df-convert {\n",
              "      background-color: #E8F0FE;\n",
              "      border: none;\n",
              "      border-radius: 50%;\n",
              "      cursor: pointer;\n",
              "      display: none;\n",
              "      fill: #1967D2;\n",
              "      height: 32px;\n",
              "      padding: 0 0 0 0;\n",
              "      width: 32px;\n",
              "    }\n",
              "\n",
              "    .colab-df-convert:hover {\n",
              "      background-color: #E2EBFA;\n",
              "      box-shadow: 0px 1px 2px rgba(60, 64, 67, 0.3), 0px 1px 3px 1px rgba(60, 64, 67, 0.15);\n",
              "      fill: #174EA6;\n",
              "    }\n",
              "\n",
              "    [theme=dark] .colab-df-convert {\n",
              "      background-color: #3B4455;\n",
              "      fill: #D2E3FC;\n",
              "    }\n",
              "\n",
              "    [theme=dark] .colab-df-convert:hover {\n",
              "      background-color: #434B5C;\n",
              "      box-shadow: 0px 1px 3px 1px rgba(0, 0, 0, 0.15);\n",
              "      filter: drop-shadow(0px 1px 2px rgba(0, 0, 0, 0.3));\n",
              "      fill: #FFFFFF;\n",
              "    }\n",
              "  </style>\n",
              "\n",
              "      <script>\n",
              "        const buttonEl =\n",
              "          document.querySelector('#df-d2b284e7-a215-4559-ac33-789a18286480 button.colab-df-convert');\n",
              "        buttonEl.style.display =\n",
              "          google.colab.kernel.accessAllowed ? 'block' : 'none';\n",
              "\n",
              "        async function convertToInteractive(key) {\n",
              "          const element = document.querySelector('#df-d2b284e7-a215-4559-ac33-789a18286480');\n",
              "          const dataTable =\n",
              "            await google.colab.kernel.invokeFunction('convertToInteractive',\n",
              "                                                     [key], {});\n",
              "          if (!dataTable) return;\n",
              "\n",
              "          const docLinkHtml = 'Like what you see? Visit the ' +\n",
              "            '<a target=\"_blank\" href=https://colab.research.google.com/notebooks/data_table.ipynb>data table notebook</a>'\n",
              "            + ' to learn more about interactive tables.';\n",
              "          element.innerHTML = '';\n",
              "          dataTable['output_type'] = 'display_data';\n",
              "          await google.colab.output.renderOutput(dataTable, element);\n",
              "          const docLink = document.createElement('div');\n",
              "          docLink.innerHTML = docLinkHtml;\n",
              "          element.appendChild(docLink);\n",
              "        }\n",
              "      </script>\n",
              "    </div>\n",
              "  </div>\n",
              "  "
            ]
          },
          "metadata": {},
          "execution_count": 12
        }
      ]
    },
    {
      "cell_type": "code",
      "source": [
        "# Get data information\n",
        "main_data.info()"
      ],
      "metadata": {
        "id": "aTo79nnG2lEc",
        "colab": {
          "base_uri": "https://localhost:8080/"
        },
        "outputId": "c5aa556a-6220-4a30-ccc1-9af0916c2d59"
      },
      "execution_count": null,
      "outputs": [
        {
          "output_type": "stream",
          "name": "stdout",
          "text": [
            "<class 'pandas.core.frame.DataFrame'>\n",
            "RangeIndex: 4957497 entries, 0 to 4957496\n",
            "Data columns (total 10 columns):\n",
            " #   Column           Dtype  \n",
            "---  ------           -----  \n",
            " 0   created_at       object \n",
            " 1   id               int64  \n",
            " 2   lng              float64\n",
            " 3   lat              float64\n",
            " 4   topic            object \n",
            " 5   sentiment        float64\n",
            " 6   stance           object \n",
            " 7   gender           object \n",
            " 8   temperature_avg  float64\n",
            " 9   aggressiveness   object \n",
            "dtypes: float64(4), int64(1), object(5)\n",
            "memory usage: 378.2+ MB\n"
          ]
        }
      ]
    },
    {
      "cell_type": "code",
      "source": [
        "# Get data information\n",
        "disasters.info()"
      ],
      "metadata": {
        "id": "JBwngXhp2lC5",
        "colab": {
          "base_uri": "https://localhost:8080/"
        },
        "outputId": "e8f1e6f3-5db2-4484-a0fe-6eca6c4256e8"
      },
      "execution_count": null,
      "outputs": [
        {
          "output_type": "stream",
          "name": "stdout",
          "text": [
            "<class 'pandas.core.frame.DataFrame'>\n",
            "RangeIndex: 4913 entries, 0 to 4912\n",
            "Data columns (total 17 columns):\n",
            " #   Column                           Non-Null Count  Dtype  \n",
            "---  ------                           --------------  -----  \n",
            " 0   Disaster Type                    4913 non-null   object \n",
            " 1   Disaster Subtype                 4212 non-null   object \n",
            " 2   Disaster Group                   4913 non-null   object \n",
            " 3   Disaster Subgroup                4913 non-null   object \n",
            " 4   Event Name                       979 non-null    object \n",
            " 5   Origin                           2067 non-null   object \n",
            " 6   Country                          4913 non-null   object \n",
            " 7   Location                         4787 non-null   object \n",
            " 8   Latitude                         1290 non-null   float64\n",
            " 9   Longitude                        1294 non-null   float64\n",
            " 10  start_date                       4913 non-null   object \n",
            " 11  end_date                         4913 non-null   object \n",
            " 12  Total Deaths                     3583 non-null   float64\n",
            " 13  No Affected                      3213 non-null   float64\n",
            " 14  Reconstruction Costs ('000 US$)  16 non-null     float64\n",
            " 15  Total Damages ('000 US$)         1755 non-null   float64\n",
            " 16  CPI                              4544 non-null   float64\n",
            "dtypes: float64(7), object(10)\n",
            "memory usage: 652.6+ KB\n"
          ]
        }
      ]
    },
    {
      "cell_type": "code",
      "source": [
        "import matplotlib.pyplot as plt\n",
        "import seaborn as sns\n",
        "\n",
        "# Plot histogram with aggressiveness and temperature\n",
        "main_data.aggressiveness.value_counts()  \n",
        "main_data.temperature_avg.hist()"
      ],
      "metadata": {
        "id": "2hwS7uzU2kyW",
        "colab": {
          "base_uri": "https://localhost:8080/",
          "height": 283
        },
        "outputId": "22baa4e0-9801-4a1d-f732-8085e4fd9480"
      },
      "execution_count": 16,
      "outputs": [
        {
          "output_type": "execute_result",
          "data": {
            "text/plain": [
              "<matplotlib.axes._subplots.AxesSubplot at 0x7fa882c4d410>"
            ]
          },
          "metadata": {},
          "execution_count": 16
        },
        {
          "output_type": "display_data",
          "data": {
            "text/plain": [
              "<Figure size 432x288 with 1 Axes>"
            ],
            "image/png": "[encoded data removed]"
          },
          "metadata": {
            "needs_background": "light"
          }
        }
      ]
    },
    {
      "cell_type": "code",
      "source": [
        "# Plot histogram\n",
        "fig = plt.figure()\n",
        "ax = fig.add_subplot(1,1,1)\n",
        "ax.hist(main_data['temperature_avg'],bins=5)\n",
        "plt.title('Temp Average')\n",
        "plt.xlabel('Temp avg')\n",
        "plt.ylabel('#aggressiveness')\n",
        "plt.show()"
      ],
      "metadata": {
        "colab": {
          "base_uri": "https://localhost:8080/",
          "height": 295
        },
        "id": "_lbK3sKyONNK",
        "outputId": "a6390973-dcf0-4e44-c970-25c16f42939e"
      },
      "execution_count": 17,
      "outputs": [
        {
          "output_type": "display_data",
          "data": {
            "text/plain": [
              "<Figure size 432x288 with 1 Axes>"
            ],
            "image/png": "[encoded data removed]"
          },
          "metadata": {
            "needs_background": "light"
          }
        }
      ]
    },
    {
      "cell_type": "code",
      "source": [
        "# Plot temperature\n",
        "# Can determine bins based on num observations max val - min val\n",
        "plt.style.use('ggplot')\n",
        "plt.hist(main_data['temperature_avg'],bins=20)\n",
        "plt.show()"
      ],
      "metadata": {
        "colab": {
          "base_uri": "https://localhost:8080/",
          "height": 267
        },
        "id": "D4TYBmudOM5k",
        "outputId": "7925d881-eced-4036-958f-1dd33dad03c6"
      },
      "execution_count": 23,
      "outputs": [
        {
          "output_type": "display_data",
          "data": {
            "text/plain": [
              "<Figure size 432x288 with 1 Axes>"
            ],
            "image/png": "[encoded data removed]"
          },
          "metadata": {}
        }
      ]
    },
    {
      "cell_type": "code",
      "source": [
        "# Temperature scatter plat\n",
        "new1_ax = fig.add_subplot(1,1,1)\n",
        "new1_ax.scatter(main_data['temperature_avg'],main_data['sentiment'])\n",
        "plt.title('Temp vs Sentiment')\n",
        "plt.xlabel('temp')\n",
        "plt.ylabel('sentiment')\n",
        "plt.style.use('ggplot')\n",
        "plt.show()"
      ],
      "metadata": {
        "colab": {
          "base_uri": "https://localhost:8080/",
          "height": 356
        },
        "id": "PGjdbJl2OMyV",
        "outputId": "e54fb88a-4967-4b4c-e52f-ad138f845899"
      },
      "execution_count": 27,
      "outputs": [
        {
          "output_type": "stream",
          "name": "stderr",
          "text": [
            "/usr/local/lib/python3.7/dist-packages/ipykernel_launcher.py:2: MatplotlibDeprecationWarning: Adding an axes using the same arguments as a previous axes currently reuses the earlier instance.  In a future version, a new instance will always be created and returned.  Meanwhile, this warning can be suppressed, and the future behavior ensured, by passing a unique label to each axes instance.\n",
            "  \n"
          ]
        },
        {
          "output_type": "display_data",
          "data": {
            "text/plain": [
              "<Figure size 432x288 with 1 Axes>"
            ],
            "image/png": "[encoded data removed]"
          },
          "metadata": {}
        }
      ]
    },
    {
      "cell_type": "code",
      "source": [
        "# Id scatter plat\n",
        "new2_ax = fig.add_subplot(1,1,1)\n",
        "new2_ax.scatter(main_data['id'],main_data['sentiment'])\n",
        "plt.title('ID vs Sentiment')\n",
        "plt.xlabel('ID')\n",
        "plt.ylabel('sentiment')\n",
        "plt.style.use('ggplot')\n",
        "plt.show()"
      ],
      "metadata": {
        "colab": {
          "base_uri": "https://localhost:8080/",
          "height": 356
        },
        "id": "jJ0hRFuFOMuv",
        "outputId": "669bc314-9aac-45ff-bad5-05bba6e1a8b5"
      },
      "execution_count": 28,
      "outputs": [
        {
          "output_type": "stream",
          "name": "stderr",
          "text": [
            "/usr/local/lib/python3.7/dist-packages/ipykernel_launcher.py:2: MatplotlibDeprecationWarning: Adding an axes using the same arguments as a previous axes currently reuses the earlier instance.  In a future version, a new instance will always be created and returned.  Meanwhile, this warning can be suppressed, and the future behavior ensured, by passing a unique label to each axes instance.\n",
            "  \n"
          ]
        },
        {
          "output_type": "display_data",
          "data": {
            "text/plain": [
              "<Figure size 432x288 with 1 Axes>"
            ],
            "image/png": "[encoded data removed]"
          },
          "metadata": {}
        }
      ]
    },
    {
      "cell_type": "code",
      "source": [
        "# Box plot\n",
        "sns.boxplot(main_data['sentiment'])\n",
        "sns.despine()"
      ],
      "metadata": {
        "id": "omr0xNTm2kwp",
        "colab": {
          "base_uri": "https://localhost:8080/",
          "height": 339
        },
        "outputId": "77b780f0-6a1f-42eb-a3c1-fea38aba9f8a"
      },
      "execution_count": 26,
      "outputs": [
        {
          "output_type": "stream",
          "name": "stderr",
          "text": [
            "/usr/local/lib/python3.7/dist-packages/seaborn/_decorators.py:43: FutureWarning: Pass the following variable as a keyword arg: x. From version 0.12, the only valid positional argument will be `data`, and passing other arguments without an explicit keyword will result in an error or misinterpretation.\n",
            "  FutureWarning\n"
          ]
        },
        {
          "output_type": "display_data",
          "data": {
            "text/plain": [
              "<Figure size 432x288 with 1 Axes>"
            ],
            "image/png": "[encoded data removed]"
          },
          "metadata": {}
        }
      ]
    },
    {
      "cell_type": "code",
      "source": [
        "# Frequency table sentiment vs gender\n",
        "freq1 = main_data.groupby(['gender','sentiment'])\n",
        "freq1.size()"
      ],
      "metadata": {
        "colab": {
          "base_uri": "https://localhost:8080/"
        },
        "id": "hHcBwW6hZ-aT",
        "outputId": "1f67273a-aa3d-4313-ac5c-0b2548048b38"
      },
      "execution_count": 30,
      "outputs": [
        {
          "output_type": "execute_result",
          "data": {
            "text/plain": [
              "gender     sentiment\n",
              "female     -0.987095    1\n",
              "           -0.985158    1\n",
              "           -0.984053    1\n",
              "           -0.983041    1\n",
              "           -0.982399    1\n",
              "                       ..\n",
              "undefined   0.957592    1\n",
              "            0.961094    1\n",
              "            0.969081    1\n",
              "            0.971074    1\n",
              "            0.974020    1\n",
              "Length: 4699589, dtype: int64"
            ]
          },
          "metadata": {},
          "execution_count": 30
        }
      ]
    },
    {
      "cell_type": "code",
      "source": [
        "# Correlation matrix for Twitter \n",
        "corr_matx = main_data.corr()\n",
        "sns.heatmap(corr_matx, annot=True)\n",
        "plt.show()"
      ],
      "metadata": {
        "colab": {
          "base_uri": "https://localhost:8080/",
          "height": 345
        },
        "id": "IfuoLvoeZ-TB",
        "outputId": "e2391f58-cb64-4bc5-ce4d-15bdd0933321"
      },
      "execution_count": 32,
      "outputs": [
        {
          "output_type": "display_data",
          "data": {
            "text/plain": [
              "<Figure size 432x288 with 2 Axes>"
            ],
            "image/png": "[encoded data removed]"
          },
          "metadata": {}
        }
      ]
    },
    {
      "cell_type": "code",
      "source": [
        "# Correlation matrix for disasters\n",
        "corr_matx = disasters.corr()\n",
        "sns.heatmap(corr_matx, annot=True)\n",
        "plt.show()"
      ],
      "metadata": {
        "colab": {
          "base_uri": "https://localhost:8080/",
          "height": 420
        },
        "id": "jcncdXQqZ-K5",
        "outputId": "ba35530f-5cbb-4a38-a84e-1fcd43b8b748"
      },
      "execution_count": 33,
      "outputs": [
        {
          "output_type": "display_data",
          "data": {
            "text/plain": [
              "<Figure size 432x288 with 2 Axes>"
            ],
            "image/png": "[encoded data removed]"
          },
          "metadata": {}
        }
      ]
    },
    {
      "cell_type": "code",
      "source": [
        "import warnings\n",
        "warnings.filterwarnings( \"ignore\", module = \"matplotlib\\..*\" )\n",
        "\n",
        "\n",
        "# Id scatter plat\n",
        "new3_ax = fig.add_subplot(2,2,2)\n",
        "new3_ax.scatter(disasters['No Affected'],disasters[\"Total Damages ('000 US$)\"])\n",
        "plt.title('Num Affected vs Total Damages')\n",
        "plt.xlabel('Num affect')\n",
        "plt.ylabel('Total Damage')\n",
        "plt.style.use('ggplot')\n",
        "plt.show()"
      ],
      "metadata": {
        "id": "L3He2PoY2koq",
        "colab": {
          "base_uri": "https://localhost:8080/",
          "height": 356
        },
        "outputId": "32a12d5c-2c4d-489e-f9fe-5e1f5dd64f8c"
      },
      "execution_count": 36,
      "outputs": [
        {
          "output_type": "stream",
          "name": "stderr",
          "text": [
            "/usr/local/lib/python3.7/dist-packages/ipykernel_launcher.py:6: MatplotlibDeprecationWarning: Adding an axes using the same arguments as a previous axes currently reuses the earlier instance.  In a future version, a new instance will always be created and returned.  Meanwhile, this warning can be suppressed, and the future behavior ensured, by passing a unique label to each axes instance.\n",
            "  \n"
          ]
        },
        {
          "output_type": "display_data",
          "data": {
            "text/plain": [
              "<Figure size 432x288 with 1 Axes>"
            ],
            "image/png": "[encoded data removed]"
          },
          "metadata": {}
        }
      ]
    },
    {
      "cell_type": "code",
      "source": [
        ""
      ],
      "metadata": {
        "id": "CvCOBBgi2kda"
      },
      "execution_count": null,
      "outputs": []
    },
    {
      "cell_type": "code",
      "execution_count": null,
      "metadata": {
        "id": "Cmvt7RW5ytA2"
      },
      "outputs": [],
      "source": [
        "# Store the 'Survived' feature in a new variable and remove it from the dataset\n",
        "outcomes = full_data['Survived']\n",
        "features_raw = full_data.drop('Survived', axis = 1)\n",
        "\n",
        "# Show the new dataset with 'Survived' removed\n",
        "display(features_raw.head())"
      ]
    },
    {
      "cell_type": "code",
      "execution_count": null,
      "metadata": {
        "id": "YfkvERQ-ytA3"
      },
      "outputs": [],
      "source": [
        "def clean_data(df):\n",
        "    '''\n",
        "    INPUT\n",
        "    df - pandas dataframe \n",
        "    \n",
        "    OUTPUT\n",
        "    X - A matrix holding all of the variables you want to consider when predicting the response\n",
        "    y - the corresponding response vector\n",
        "    \n",
        "    This function cleans df using the following steps to produce X and y:\n",
        "    1. Drop all the rows with no salaries\n",
        "    2. Create X as all the columns that are not the Salary column\n",
        "    3. Create y as the Salary column\n",
        "    4. Drop the Salary, Respondent, and the ExpectedSalary columns from X\n",
        "    5. For each numeric variable in X, fill the column with the mean value of the column.\n",
        "    6. Create dummy columns for all the categorical variables in X, drop the original columns\n",
        "    '''\n",
        "    # Drop rows with missing salary values\n",
        "    df = df.dropna(subset=['Salary'], axis=0)\n",
        "    y = df['Salary']\n",
        "    \n",
        "    #Drop respondent and expected salary columns\n",
        "    df = df.drop(['Respondent', 'ExpectedSalary', 'Salary'], axis=1)\n",
        "    \n",
        "    # Fill numeric columns with the mean\n",
        "    num_vars = df.select_dtypes(include=['float', 'int']).columns\n",
        "    for col in num_vars:\n",
        "        df[col].fillna((df[col].mean()), inplace=True)\n",
        "        \n",
        "    # Dummy the categorical variables\n",
        "    cat_vars = df.select_dtypes(include=['object']).copy().columns\n",
        "    for var in  cat_vars:\n",
        "        # for each cat add dummy var, drop original column\n",
        "        df = pd.concat([df.drop(var, axis=1), pd.get_dummies(df[var], prefix=var, prefix_sep='_', drop_first=True)], axis=1)\n",
        "    \n",
        "    X = df\n",
        "    return X, y\n",
        "    \n",
        "#Use the function to create X and y\n",
        "X, y = clean_data(df)    "
      ]
    },
    {
      "cell_type": "code",
      "execution_count": null,
      "metadata": {
        "id": "cUbaV7PoytA3"
      },
      "outputs": [],
      "source": [
        "#cutoffs here pertains to the number of missing values allowed in the used columns.\n",
        "#Therefore, lower values for the cutoff provides more predictors in the model.\n",
        "cutoffs = [5000, 3500, 2500, 1000, 100, 50, 30, 25]\n",
        "\n",
        "r2_scores_test, r2_scores_train, lm_model, X_train, X_test, y_train, y_test = t.find_optimal_lm_mod(X, y, cutoffs)"
      ]
    },
    {
      "cell_type": "code",
      "execution_count": null,
      "metadata": {
        "id": "GC1a7CjnytA4"
      },
      "outputs": [],
      "source": [
        "# Removing the names\n",
        "features_no_name = features_raw.drop(['Name'], axis=1)\n",
        "\n",
        "# One-hot encoding\n",
        "features = pd.get_dummies(features_no_name)"
      ]
    },
    {
      "cell_type": "code",
      "execution_count": null,
      "metadata": {
        "id": "PTMCTTGfytA4"
      },
      "outputs": [],
      "source": [
        "def coef_weights(coefficients, X_train):\n",
        "    '''\n",
        "    INPUT:\n",
        "    coefficients - the coefficients of the linear model \n",
        "    X_train - the training data, so the column names can be used\n",
        "    OUTPUT:\n",
        "    coefs_df - a dataframe holding the coefficient, estimate, and abs(estimate)\n",
        "    \n",
        "    Provides a dataframe that can be used to understand the most influential coefficients\n",
        "    in a linear model by providing the coefficient estimates along with the name of the \n",
        "    variable attached to the coefficient.\n",
        "    '''\n",
        "    coefs_df = pd.DataFrame()\n",
        "    coefs_df['est_int'] = X_train.columns\n",
        "    coefs_df['coefs'] = lm_model.coef_\n",
        "    coefs_df['abs_coefs'] = np.abs(lm_model.coef_)\n",
        "    coefs_df = coefs_df.sort_values('abs_coefs', ascending=False)\n",
        "    return coefs_df\n",
        "\n",
        "#Use the function\n",
        "coef_df = coef_weights(lm_model.coef_, X_train)\n",
        "\n",
        "#A quick look at the top results\n",
        "coef_df.head(20)"
      ]
    },
    {
      "cell_type": "code",
      "execution_count": null,
      "metadata": {
        "id": "KtyrKRRVytA5"
      },
      "outputs": [],
      "source": [
        "from sklearn.model_selection import train_test_split\n",
        "X_train, X_test, y_train, y_test = train_test_split(features, outcomes, test_size=0.2, random_state=42)"
      ]
    },
    {
      "cell_type": "code",
      "execution_count": null,
      "metadata": {
        "id": "7xMF7upNytA6"
      },
      "outputs": [],
      "source": [
        ""
      ]
    },
    {
      "cell_type": "code",
      "execution_count": null,
      "metadata": {
        "id": "BMGenPS_ytA6"
      },
      "outputs": [],
      "source": [
        "# Import the classifier from sklearn\n",
        "from sklearn.tree import DecisionTreeClassifier\n",
        "\n",
        "# TODO: Define the classifier, and fit it to the data\n",
        "model = DecisionTreeClassifier()\n",
        "model.fit(X_train, y_train)"
      ]
    },
    {
      "cell_type": "code",
      "execution_count": null,
      "metadata": {
        "id": "93B5SiUlytA7"
      },
      "outputs": [],
      "source": [
        ""
      ]
    },
    {
      "cell_type": "code",
      "execution_count": null,
      "metadata": {
        "id": "LyZOGHnnytA7"
      },
      "outputs": [],
      "source": [
        "# Making predictions\n",
        "y_train_pred = model.predict(X_train)\n",
        "y_test_pred = model.predict(X_test)\n",
        "\n",
        "# Calculate the accuracy\n",
        "from sklearn.metrics import accuracy_score\n",
        "train_accuracy = accuracy_score(y_train, y_train_pred)\n",
        "test_accuracy = accuracy_score(y_test, y_test_pred)\n",
        "print('The training accuracy is', train_accuracy)\n",
        "print('The test accuracy is', test_accuracy)"
      ]
    },
    {
      "cell_type": "code",
      "execution_count": null,
      "metadata": {
        "id": "MvG-LvDeytA7"
      },
      "outputs": [],
      "source": [
        ""
      ]
    },
    {
      "cell_type": "code",
      "execution_count": null,
      "metadata": {
        "id": "cgXXp8CGytA8"
      },
      "outputs": [],
      "source": [
        "# Training the model\n",
        "model = DecisionTreeClassifier(max_depth=6, min_samples_leaf=6, min_samples_split=10)\n",
        "model.fit(X_train, y_train)\n",
        "\n",
        "# Making predictions\n",
        "y_train_pred = model.predict(X_train)\n",
        "y_test_pred = model.predict(X_test)\n",
        "\n",
        "# Calculating accuracies\n",
        "train_accuracy = accuracy_score(y_train, y_train_pred)\n",
        "test_accuracy = accuracy_score(y_test, y_test_pred)\n",
        "\n",
        "print('The training accuracy is', train_accuracy)\n",
        "print('The test accuracy is', test_accuracy)"
      ]
    },
    {
      "cell_type": "code",
      "execution_count": null,
      "metadata": {
        "id": "jB8njd3WytA8"
      },
      "outputs": [],
      "source": [
        ""
      ]
    },
    {
      "cell_type": "code",
      "execution_count": null,
      "metadata": {
        "id": "ZaaoLmKJytA8"
      },
      "outputs": [],
      "source": [
        ""
      ]
    },
    {
      "cell_type": "code",
      "execution_count": null,
      "metadata": {
        "id": "v8JUZb5pytA8"
      },
      "outputs": [],
      "source": [
        ""
      ]
    },
    {
      "cell_type": "code",
      "execution_count": null,
      "metadata": {
        "id": "FtvZiQcaytA8"
      },
      "outputs": [],
      "source": [
        ""
      ]
    },
    {
      "cell_type": "code",
      "execution_count": null,
      "metadata": {
        "id": "JQJUbD3_ytA8"
      },
      "outputs": [],
      "source": [
        ""
      ]
    }
  ],
  "metadata": {
    "language_info": {
      "name": "python"
    },
    "orig_nbformat": 4,
    "colab": {
      "name": "Twitter_Climate_Change.ipynb",
      "provenance": [],
      "include_colab_link": true
    },
    "kernelspec": {
      "name": "python3",
      "display_name": "Python 3"
    }
  },
  "nbformat": 4,
  "nbformat_minor": 0
}